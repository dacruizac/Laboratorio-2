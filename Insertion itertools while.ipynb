{
 "cells": [
  {
   "cell_type": "code",
   "execution_count": 1,
   "metadata": {},
   "outputs": [],
   "source": [
    "from __future__ import print_function\n",
    "from itertools import permutations\n",
    "import numpy as ny\n",
    "import pandas as pn\n",
    "import matplotlib.pyplot as plt"
   ]
  },
  {
   "cell_type": "code",
   "execution_count": 2,
   "metadata": {},
   "outputs": [],
   "source": [
    "def insertion_sort(A):\n",
    "    key=0\n",
    "    C=[]\n",
    "    for p in range(len(A)):\n",
    "        C.append(A[p])\n",
    "    steps=0\n",
    "    for i in range(1,len(C)):\n",
    "        key=C[i]\n",
    "        j=i-1\n",
    "        while(j>=0 and key<C[j]):\n",
    "            C[j+1]=C[j]\n",
    "            j=j-1\n",
    "            steps=steps+1\n",
    "        steps=steps+1\n",
    "        C[j+1]=key\n",
    "    return steps"
   ]
  },
  {
   "cell_type": "code",
   "execution_count": 3,
   "metadata": {},
   "outputs": [
    {
     "name": "stdout",
     "output_type": "stream",
     "text": [
      "4\n",
      "6\n"
     ]
    }
   ],
   "source": [
    "B=range(int(raw_input()))\n",
    "Perm=list(permutations(B))\n",
    "Pe=[]\n",
    "for s in range(len(Perm)):\n",
    "    Pe.append(insertion_sort(Perm[s]))\n",
    "print(sum(Pe)/len(Pe))"
   ]
  },
  {
   "cell_type": "code",
   "execution_count": 4,
   "metadata": {},
   "outputs": [
    {
     "data": {
      "image/png": "[encoded data removed]",
      "text/plain": [
       "<Figure size 432x288 with 1 Axes>"
      ]
     },
     "metadata": {},
     "output_type": "display_data"
    }
   ],
   "source": [
    "plt.hist(Pe,bins=(len(B)**2));"
   ]
  },
  {
   "cell_type": "code",
   "execution_count": null,
   "metadata": {},
   "outputs": [],
   "source": []
  }
 ],
 "metadata": {
  "kernelspec": {
   "display_name": "Python 2",
   "language": "python",
   "name": "python2"
  },
  "language_info": {
   "codemirror_mode": {
    "name": "ipython",
    "version": 2
   },
   "file_extension": ".py",
   "mimetype": "text/x-python",
   "name": "python",
   "nbconvert_exporter": "python",
   "pygments_lexer": "ipython2",
   "version": "2.7.15"
  }
 },
 "nbformat": 4,
 "nbformat_minor": 2
}
