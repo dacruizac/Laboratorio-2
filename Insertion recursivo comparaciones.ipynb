{
 "cells": [
  {
   "cell_type": "code",
   "execution_count": 7,
   "metadata": {},
   "outputs": [],
   "source": [
    "from __future__ import print_function\n",
    "from itertools import permutations\n",
    "import numpy as ny\n",
    "import pandas as pn\n",
    "import matplotlib.pyplot as plt"
   ]
  },
  {
   "cell_type": "code",
   "execution_count": 8,
   "metadata": {},
   "outputs": [],
   "source": [
    "def insertion_sort(A):\n",
    "    key=0\n",
    "    C=[]\n",
    "    for p in range(len(A)):\n",
    "        C.append(A[p])\n",
    "    steps=0\n",
    "    for i in range(1,len(C)):\n",
    "        key=C[i]\n",
    "        j=i-1\n",
    "        while(j>=0 and key<C[j]):\n",
    "            C[j+1]=C[j]\n",
    "            j=j-1\n",
    "            steps=steps+1\n",
    "        if (j!=-1):\n",
    "            steps=steps+1\n",
    "        C[j+1]=key\n",
    "    return steps"
   ]
  },
  {
   "cell_type": "code",
   "execution_count": 9,
   "metadata": {},
   "outputs": [],
   "source": [
    "def perm(A,P,i,n):\n",
    "    if (i==n):\n",
    "        P.append(insertion_sort(A));\n",
    "    else:\n",
    "        for j in range(i,n):\n",
    "            A[j],A[i]=A[i],A[j]\n",
    "            perm(A,P,i+1,n)\n",
    "            A[j],A[i]=A[i],A[j]"
   ]
  },
  {
   "cell_type": "code",
   "execution_count": 10,
   "metadata": {},
   "outputs": [
    {
     "name": "stdout",
     "output_type": "stream",
     "text": [
      "4\n",
      "4\n"
     ]
    }
   ],
   "source": [
    "B=range(int(raw_input()))\n",
    "Pe=[]\n",
    "perm(B,Pe,0,len(B))\n",
    "\n",
    "print(sum(Pe)/len(Pe))"
   ]
  },
  {
   "cell_type": "code",
   "execution_count": 11,
   "metadata": {},
   "outputs": [
    {
     "data": {
      "image/png": "[encoded data removed]",
      "text/plain": [
       "<Figure size 432x288 with 1 Axes>"
      ]
     },
     "metadata": {},
     "output_type": "display_data"
    }
   ],
   "source": [
    "plt.hist(Pe,bins=(len(B)**2));"
   ]
  },
  {
   "cell_type": "code",
   "execution_count": 6,
   "metadata": {},
   "outputs": [
    {
     "name": "stdout",
     "output_type": "stream",
     "text": [
      "[3, 4, 4, 5, 6, 5, 3, 4, 4, 5, 6, 5, 4, 5, 4, 5, 6, 6, 6, 5, 6, 6, 6, 5]\n"
     ]
    }
   ],
   "source": [
    "print(Pe)"
   ]
  },
  {
   "cell_type": "code",
   "execution_count": null,
   "metadata": {},
   "outputs": [],
   "source": []
  }
 ],
 "metadata": {
  "kernelspec": {
   "display_name": "Python 2",
   "language": "python",
   "name": "python2"
  },
  "language_info": {
   "codemirror_mode": {
    "name": "ipython",
    "version": 2
   },
   "file_extension": ".py",
   "mimetype": "text/x-python",
   "name": "python",
   "nbconvert_exporter": "python",
   "pygments_lexer": "ipython2",
   "version": "2.7.15"
  }
 },
 "nbformat": 4,
 "nbformat_minor": 2
}
